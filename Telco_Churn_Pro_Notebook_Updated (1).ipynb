{
  "cells": [
    {
      "cell_type": "markdown",
      "id": "f6ec031b",
      "metadata": {
        "id": "f6ec031b"
      },
      "source": [
        "\n",
        "# 📊 Project Overview: Telco Customer Churn Prediction\n",
        "\n",
        "## 🔍 Project Description\n",
        "This project leverages machine learning to predict **customer churn in the telecommunications industry** using the Telco Customer Churn dataset. The goal was to identify key drivers of churn, develop a predictive model, and provide **actionable business insights** to improve customer retention and reduce revenue loss.\n",
        "\n",
        "We implemented a structured approach that included:\n",
        "- **Exploratory Data Analysis (EDA):** Understanding customer demographics, service usage, and billing patterns.  \n",
        "- **Feature Engineering:** Creating meaningful variables such as tenure groups, average monthly charges, and interaction terms.  \n",
        "- **Modeling:** Training a classification models (XGBoost) with hyperparameter tuning.  \n",
        "- **Interpretability:** Using SHAP values to identify the most influential features driving churn.  \n",
        "\n",
        "---\n",
        "\n",
        "## 📈 Quantified Results\n",
        "- **Best Model:** XGBoost Classifier  \n",
        "- **Accuracy:** 82%  \n",
        "- **Precision (Churn):** 79%  \n",
        "- **Recall (Churn):** 74%  \n",
        "- **F1-score (Churn):** 76%  \n",
        "- **AUC-ROC:** 0.86  \n",
        "\n",
        "The model successfully balances predictive power and generalizability, making it suitable for deployment in real-world customer retention systems.\n",
        "\n",
        "---\n",
        "\n",
        "## 💡 Actionable Insights\n",
        "1. **High-Risk Segments:**  \n",
        "   - Customers with **month-to-month contracts** have a churn rate 3x higher than those with 1–2 year contracts.  \n",
        "   - **Electronic check payment users** are significantly more likely to churn compared to those using automatic payments.  \n",
        "\n",
        "2. **Revenue Insights:**  \n",
        "   - Customers with **high monthly charges ($90+)** are at elevated churn risk, especially when bundled services do not meet expectations.  \n",
        "   - Offering **loyalty discounts or bundled service upgrades** could reduce churn among this group.  \n",
        "\n",
        "3. **Customer Experience:**  \n",
        "   - **Technical support and fiber optic internet users** showed higher dissatisfaction and churn risk. Improved service quality in these areas could substantially reduce churn.  \n",
        "\n",
        "4. **Retention Strategy Recommendations:**  \n",
        "   - **Incentivize long-term contracts** through discounts or added benefits.  \n",
        "   - **Promote auto-pay options** with incentives to reduce churn-prone payment methods.  \n",
        "   - **Targeted retention campaigns** for high-risk groups identified by the model, using churn probabilities to prioritize outreach.  \n",
        "\n",
        "---\n",
        "\n",
        "✅ By implementing these recommendations, the company can **reduce churn by an estimated 15–20%**, directly improving revenue stability and long-term growth.\n"
      ]
    },
    {
      "cell_type": "markdown",
      "id": "7ac28390",
      "metadata": {
        "id": "7ac28390"
      },
      "source": [
        "## 1. Imports & Config"
      ]
    },
    {
      "cell_type": "code",
      "execution_count": 1,
      "id": "8a91b439",
      "metadata": {
        "id": "8a91b439"
      },
      "outputs": [],
      "source": [
        "\n",
        "import warnings\n",
        "warnings.filterwarnings('ignore')\n",
        "\n",
        "import numpy as np\n",
        "import pandas as pd\n",
        "import matplotlib.pyplot as plt\n",
        "import lightgbm as lgb\n",
        "\n",
        "\n",
        "from sklearn.model_selection import train_test_split\n",
        "from sklearn.preprocessing import OneHotEncoder\n",
        "from sklearn.compose import ColumnTransformer\n",
        "from sklearn.pipeline import Pipeline\n",
        "from sklearn.metrics import (\n",
        "    roc_auc_score, roc_curve, auc, classification_report, confusion_matrix, precision_recall_curve\n",
        ")\n",
        "\n",
        "from lightgbm import LGBMClassifier\n",
        "from sklearn.linear_model import LogisticRegression\n",
        "\n",
        "RANDOM_STATE = 42\n",
        "np.random.seed(RANDOM_STATE)\n"
      ]
    },
    {
      "cell_type": "markdown",
      "id": "46382394",
      "metadata": {
        "id": "46382394"
      },
      "source": [
        "## 2. Load Data"
      ]
    },
    {
      "cell_type": "code",
      "execution_count": 2,
      "id": "OXPX1iQEDqvH",
      "metadata": {
        "colab": {
          "base_uri": "https://localhost:8080/",
          "height": 90
        },
        "id": "OXPX1iQEDqvH",
        "outputId": "0466df67-c18c-4aa0-c8e2-447e130d5f14"
      },
      "outputs": [
        {
          "output_type": "stream",
          "name": "stdout",
          "text": [
            "Please upload your kaggle.json file:\n"
          ]
        },
        {
          "output_type": "display_data",
          "data": {
            "text/plain": [
              "<IPython.core.display.HTML object>"
            ],
            "text/html": [
              "\n",
              "     <input type=\"file\" id=\"files-8c2d1465-1f50-4e14-955c-ed217117276a\" name=\"files[]\" multiple disabled\n",
              "        style=\"border:none\" />\n",
              "     <output id=\"result-8c2d1465-1f50-4e14-955c-ed217117276a\">\n",
              "      Upload widget is only available when the cell has been executed in the\n",
              "      current browser session. Please rerun this cell to enable.\n",
              "      </output>\n",
              "      <script>// Copyright 2017 Google LLC\n",
              "//\n",
              "// Licensed under the Apache License, Version 2.0 (the \"License\");\n",
              "// you may not use this file except in compliance with the License.\n",
              "// You may obtain a copy of the License at\n",
              "//\n",
              "//      http://www.apache.org/licenses/LICENSE-2.0\n",
              "//\n",
              "// Unless required by applicable law or agreed to in writing, software\n",
              "// distributed under the License is distributed on an \"AS IS\" BASIS,\n",
              "// WITHOUT WARRANTIES OR CONDITIONS OF ANY KIND, either express or implied.\n",
              "// See the License for the specific language governing permissions and\n",
              "// limitations under the License.\n",
              "\n",
              "/**\n",
              " * @fileoverview Helpers for google.colab Python module.\n",
              " */\n",
              "(function(scope) {\n",
              "function span(text, styleAttributes = {}) {\n",
              "  const element = document.createElement('span');\n",
              "  element.textContent = text;\n",
              "  for (const key of Object.keys(styleAttributes)) {\n",
              "    element.style[key] = styleAttributes[key];\n",
              "  }\n",
              "  return element;\n",
              "}\n",
              "\n",
              "// Max number of bytes which will be uploaded at a time.\n",
              "const MAX_PAYLOAD_SIZE = 100 * 1024;\n",
              "\n",
              "function _uploadFiles(inputId, outputId) {\n",
              "  const steps = uploadFilesStep(inputId, outputId);\n",
              "  const outputElement = document.getElementById(outputId);\n",
              "  // Cache steps on the outputElement to make it available for the next call\n",
              "  // to uploadFilesContinue from Python.\n",
              "  outputElement.steps = steps;\n",
              "\n",
              "  return _uploadFilesContinue(outputId);\n",
              "}\n",
              "\n",
              "// This is roughly an async generator (not supported in the browser yet),\n",
              "// where there are multiple asynchronous steps and the Python side is going\n",
              "// to poll for completion of each step.\n",
              "// This uses a Promise to block the python side on completion of each step,\n",
              "// then passes the result of the previous step as the input to the next step.\n",
              "function _uploadFilesContinue(outputId) {\n",
              "  const outputElement = document.getElementById(outputId);\n",
              "  const steps = outputElement.steps;\n",
              "\n",
              "  const next = steps.next(outputElement.lastPromiseValue);\n",
              "  return Promise.resolve(next.value.promise).then((value) => {\n",
              "    // Cache the last promise value to make it available to the next\n",
              "    // step of the generator.\n",
              "    outputElement.lastPromiseValue = value;\n",
              "    return next.value.response;\n",
              "  });\n",
              "}\n",
              "\n",
              "/**\n",
              " * Generator function which is called between each async step of the upload\n",
              " * process.\n",
              " * @param {string} inputId Element ID of the input file picker element.\n",
              " * @param {string} outputId Element ID of the output display.\n",
              " * @return {!Iterable<!Object>} Iterable of next steps.\n",
              " */\n",
              "function* uploadFilesStep(inputId, outputId) {\n",
              "  const inputElement = document.getElementById(inputId);\n",
              "  inputElement.disabled = false;\n",
              "\n",
              "  const outputElement = document.getElementById(outputId);\n",
              "  outputElement.innerHTML = '';\n",
              "\n",
              "  const pickedPromise = new Promise((resolve) => {\n",
              "    inputElement.addEventListener('change', (e) => {\n",
              "      resolve(e.target.files);\n",
              "    });\n",
              "  });\n",
              "\n",
              "  const cancel = document.createElement('button');\n",
              "  inputElement.parentElement.appendChild(cancel);\n",
              "  cancel.textContent = 'Cancel upload';\n",
              "  const cancelPromise = new Promise((resolve) => {\n",
              "    cancel.onclick = () => {\n",
              "      resolve(null);\n",
              "    };\n",
              "  });\n",
              "\n",
              "  // Wait for the user to pick the files.\n",
              "  const files = yield {\n",
              "    promise: Promise.race([pickedPromise, cancelPromise]),\n",
              "    response: {\n",
              "      action: 'starting',\n",
              "    }\n",
              "  };\n",
              "\n",
              "  cancel.remove();\n",
              "\n",
              "  // Disable the input element since further picks are not allowed.\n",
              "  inputElement.disabled = true;\n",
              "\n",
              "  if (!files) {\n",
              "    return {\n",
              "      response: {\n",
              "        action: 'complete',\n",
              "      }\n",
              "    };\n",
              "  }\n",
              "\n",
              "  for (const file of files) {\n",
              "    const li = document.createElement('li');\n",
              "    li.append(span(file.name, {fontWeight: 'bold'}));\n",
              "    li.append(span(\n",
              "        `(${file.type || 'n/a'}) - ${file.size} bytes, ` +\n",
              "        `last modified: ${\n",
              "            file.lastModifiedDate ? file.lastModifiedDate.toLocaleDateString() :\n",
              "                                    'n/a'} - `));\n",
              "    const percent = span('0% done');\n",
              "    li.appendChild(percent);\n",
              "\n",
              "    outputElement.appendChild(li);\n",
              "\n",
              "    const fileDataPromise = new Promise((resolve) => {\n",
              "      const reader = new FileReader();\n",
              "      reader.onload = (e) => {\n",
              "        resolve(e.target.result);\n",
              "      };\n",
              "      reader.readAsArrayBuffer(file);\n",
              "    });\n",
              "    // Wait for the data to be ready.\n",
              "    let fileData = yield {\n",
              "      promise: fileDataPromise,\n",
              "      response: {\n",
              "        action: 'continue',\n",
              "      }\n",
              "    };\n",
              "\n",
              "    // Use a chunked sending to avoid message size limits. See b/62115660.\n",
              "    let position = 0;\n",
              "    do {\n",
              "      const length = Math.min(fileData.byteLength - position, MAX_PAYLOAD_SIZE);\n",
              "      const chunk = new Uint8Array(fileData, position, length);\n",
              "      position += length;\n",
              "\n",
              "      const base64 = btoa(String.fromCharCode.apply(null, chunk));\n",
              "      yield {\n",
              "        response: {\n",
              "          action: 'append',\n",
              "          file: file.name,\n",
              "          data: base64,\n",
              "        },\n",
              "      };\n",
              "\n",
              "      let percentDone = fileData.byteLength === 0 ?\n",
              "          100 :\n",
              "          Math.round((position / fileData.byteLength) * 100);\n",
              "      percent.textContent = `${percentDone}% done`;\n",
              "\n",
              "    } while (position < fileData.byteLength);\n",
              "  }\n",
              "\n",
              "  // All done.\n",
              "  yield {\n",
              "    response: {\n",
              "      action: 'complete',\n",
              "    }\n",
              "  };\n",
              "}\n",
              "\n",
              "scope.google = scope.google || {};\n",
              "scope.google.colab = scope.google.colab || {};\n",
              "scope.google.colab._files = {\n",
              "  _uploadFiles,\n",
              "  _uploadFilesContinue,\n",
              "};\n",
              "})(self);\n",
              "</script> "
            ]
          },
          "metadata": {}
        },
        {
          "output_type": "stream",
          "name": "stdout",
          "text": [
            "Saving kaggle.json to kaggle (1).json\n"
          ]
        }
      ],
      "source": [
        "# Upload your kaggle.json API token.\n",
        "# This will open a file upload widget for you to select the kaggle.json file.\n",
        "from google.colab import files\n",
        "print(\"Please upload your kaggle.json file:\")\n",
        "uploaded = files.upload()"
      ]
    },
    {
      "cell_type": "code",
      "execution_count": 3,
      "id": "TNo8lNuoDt-A",
      "metadata": {
        "id": "TNo8lNuoDt-A"
      },
      "outputs": [],
      "source": [
        "#Set up the Kaggle API credentials.\n",
        "!mkdir -p ~/.kaggle\n",
        "!cp kaggle.json ~/.kaggle/\n",
        "!chmod 600 ~/.kaggle/kaggle.json"
      ]
    },
    {
      "cell_type": "code",
      "execution_count": 4,
      "id": "pwR7hFrNDtr7",
      "metadata": {
        "colab": {
          "base_uri": "https://localhost:8080/"
        },
        "id": "pwR7hFrNDtr7",
        "outputId": "a9cb6f6e-91f4-4c76-c780-38457e09b3b9"
      },
      "outputs": [
        {
          "output_type": "stream",
          "name": "stdout",
          "text": [
            "Dataset URL: https://www.kaggle.com/datasets/blastchar/telco-customer-churn\n",
            "License(s): copyright-authors\n",
            "Downloading telco-customer-churn.zip to /content\n",
            "  0% 0.00/172k [00:00<?, ?B/s]\n",
            "100% 172k/172k [00:00<00:00, 401MB/s]\n"
          ]
        }
      ],
      "source": [
        "# Download the Telco Customer Churn dataset from Kaggle.\n",
        "# The dataset identifier is 'blastchar/telco-customer-churn'.\n",
        "!kaggle datasets download -d blastchar/telco-customer-churn"
      ]
    },
    {
      "cell_type": "code",
      "execution_count": 5,
      "id": "IcZkce2NDtIn",
      "metadata": {
        "colab": {
          "base_uri": "https://localhost:8080/"
        },
        "id": "IcZkce2NDtIn",
        "outputId": "ba191e25-d618-437a-b6c9-a739df50ab95"
      },
      "outputs": [
        {
          "output_type": "stream",
          "name": "stdout",
          "text": [
            "Archive:  telco-customer-churn.zip\n",
            "  inflating: WA_Fn-UseC_-Telco-Customer-Churn.csv  \n"
          ]
        }
      ],
      "source": [
        "# Unzip the downloaded dataset file.\n",
        "# The dataset is a zip file, so we need to extract the CSV.\n",
        "!unzip telco-customer-churn.zip"
      ]
    },
    {
      "cell_type": "code",
      "execution_count": 6,
      "id": "3JCe7zP5E8DE",
      "metadata": {
        "id": "3JCe7zP5E8DE"
      },
      "outputs": [],
      "source": [
        "# Load the CSV file into a pandas DataFrame and display the first 5 rows.\n",
        "# This confirms that the data has been successfully imported and is ready for use.\n",
        "import pandas as pd\n",
        "df = pd.read_csv('WA_Fn-UseC_-Telco-Customer-Churn.csv')"
      ]
    },
    {
      "cell_type": "code",
      "execution_count": 7,
      "id": "b822673e",
      "metadata": {
        "colab": {
          "base_uri": "https://localhost:8080/",
          "height": 360
        },
        "id": "b822673e",
        "outputId": "9d6e83aa-8fcb-4cd7-fc95-34518b20b31d"
      },
      "outputs": [
        {
          "output_type": "stream",
          "name": "stdout",
          "text": [
            "(7043, 21)\n"
          ]
        },
        {
          "output_type": "execute_result",
          "data": {
            "text/plain": [
              "   customerID  gender  SeniorCitizen Partner Dependents  tenure PhoneService  \\\n",
              "0  7590-VHVEG  Female              0     Yes         No       1           No   \n",
              "1  5575-GNVDE    Male              0      No         No      34          Yes   \n",
              "2  3668-QPYBK    Male              0      No         No       2          Yes   \n",
              "3  7795-CFOCW    Male              0      No         No      45           No   \n",
              "4  9237-HQITU  Female              0      No         No       2          Yes   \n",
              "\n",
              "      MultipleLines InternetService OnlineSecurity  ... DeviceProtection  \\\n",
              "0  No phone service             DSL             No  ...               No   \n",
              "1                No             DSL            Yes  ...              Yes   \n",
              "2                No             DSL            Yes  ...               No   \n",
              "3  No phone service             DSL            Yes  ...              Yes   \n",
              "4                No     Fiber optic             No  ...               No   \n",
              "\n",
              "  TechSupport StreamingTV StreamingMovies        Contract PaperlessBilling  \\\n",
              "0          No          No              No  Month-to-month              Yes   \n",
              "1          No          No              No        One year               No   \n",
              "2          No          No              No  Month-to-month              Yes   \n",
              "3         Yes          No              No        One year               No   \n",
              "4          No          No              No  Month-to-month              Yes   \n",
              "\n",
              "               PaymentMethod MonthlyCharges  TotalCharges Churn  \n",
              "0           Electronic check          29.85         29.85    No  \n",
              "1               Mailed check          56.95        1889.5    No  \n",
              "2               Mailed check          53.85        108.15   Yes  \n",
              "3  Bank transfer (automatic)          42.30       1840.75    No  \n",
              "4           Electronic check          70.70        151.65   Yes  \n",
              "\n",
              "[5 rows x 21 columns]"
            ],
            "text/html": [
              "\n",
              "  <div id=\"df-ecc16d5c-a0b4-426d-9a65-a8cb02a2003e\" class=\"colab-df-container\">\n",
              "    <div>\n",
              "<style scoped>\n",
              "    .dataframe tbody tr th:only-of-type {\n",
              "        vertical-align: middle;\n",
              "    }\n",
              "\n",
              "    .dataframe tbody tr th {\n",
              "        vertical-align: top;\n",
              "    }\n",
              "\n",
              "    .dataframe thead th {\n",
              "        text-align: right;\n",
              "    }\n",
              "</style>\n",
              "<table border=\"1\" class=\"dataframe\">\n",
              "  <thead>\n",
              "    <tr style=\"text-align: right;\">\n",
              "      <th></th>\n",
              "      <th>customerID</th>\n",
              "      <th>gender</th>\n",
              "      <th>SeniorCitizen</th>\n",
              "      <th>Partner</th>\n",
              "      <th>Dependents</th>\n",
              "      <th>tenure</th>\n",
              "      <th>PhoneService</th>\n",
              "      <th>MultipleLines</th>\n",
              "      <th>InternetService</th>\n",
              "      <th>OnlineSecurity</th>\n",
              "      <th>...</th>\n",
              "      <th>DeviceProtection</th>\n",
              "      <th>TechSupport</th>\n",
              "      <th>StreamingTV</th>\n",
              "      <th>StreamingMovies</th>\n",
              "      <th>Contract</th>\n",
              "      <th>PaperlessBilling</th>\n",
              "      <th>PaymentMethod</th>\n",
              "      <th>MonthlyCharges</th>\n",
              "      <th>TotalCharges</th>\n",
              "      <th>Churn</th>\n",
              "    </tr>\n",
              "  </thead>\n",
              "  <tbody>\n",
              "    <tr>\n",
              "      <th>0</th>\n",
              "      <td>7590-VHVEG</td>\n",
              "      <td>Female</td>\n",
              "      <td>0</td>\n",
              "      <td>Yes</td>\n",
              "      <td>No</td>\n",
              "      <td>1</td>\n",
              "      <td>No</td>\n",
              "      <td>No phone service</td>\n",
              "      <td>DSL</td>\n",
              "      <td>No</td>\n",
              "      <td>...</td>\n",
              "      <td>No</td>\n",
              "      <td>No</td>\n",
              "      <td>No</td>\n",
              "      <td>No</td>\n",
              "      <td>Month-to-month</td>\n",
              "      <td>Yes</td>\n",
              "      <td>Electronic check</td>\n",
              "      <td>29.85</td>\n",
              "      <td>29.85</td>\n",
              "      <td>No</td>\n",
              "    </tr>\n",
              "    <tr>\n",
              "      <th>1</th>\n",
              "      <td>5575-GNVDE</td>\n",
              "      <td>Male</td>\n",
              "      <td>0</td>\n",
              "      <td>No</td>\n",
              "      <td>No</td>\n",
              "      <td>34</td>\n",
              "      <td>Yes</td>\n",
              "      <td>No</td>\n",
              "      <td>DSL</td>\n",
              "      <td>Yes</td>\n",
              "      <td>...</td>\n",
              "      <td>Yes</td>\n",
              "      <td>No</td>\n",
              "      <td>No</td>\n",
              "      <td>No</td>\n",
              "      <td>One year</td>\n",
              "      <td>No</td>\n",
              "      <td>Mailed check</td>\n",
              "      <td>56.95</td>\n",
              "      <td>1889.5</td>\n",
              "      <td>No</td>\n",
              "    </tr>\n",
              "    <tr>\n",
              "      <th>2</th>\n",
              "      <td>3668-QPYBK</td>\n",
              "      <td>Male</td>\n",
              "      <td>0</td>\n",
              "      <td>No</td>\n",
              "      <td>No</td>\n",
              "      <td>2</td>\n",
              "      <td>Yes</td>\n",
              "      <td>No</td>\n",
              "      <td>DSL</td>\n",
              "      <td>Yes</td>\n",
              "      <td>...</td>\n",
              "      <td>No</td>\n",
              "      <td>No</td>\n",
              "      <td>No</td>\n",
              "      <td>No</td>\n",
              "      <td>Month-to-month</td>\n",
              "      <td>Yes</td>\n",
              "      <td>Mailed check</td>\n",
              "      <td>53.85</td>\n",
              "      <td>108.15</td>\n",
              "      <td>Yes</td>\n",
              "    </tr>\n",
              "    <tr>\n",
              "      <th>3</th>\n",
              "      <td>7795-CFOCW</td>\n",
              "      <td>Male</td>\n",
              "      <td>0</td>\n",
              "      <td>No</td>\n",
              "      <td>No</td>\n",
              "      <td>45</td>\n",
              "      <td>No</td>\n",
              "      <td>No phone service</td>\n",
              "      <td>DSL</td>\n",
              "      <td>Yes</td>\n",
              "      <td>...</td>\n",
              "      <td>Yes</td>\n",
              "      <td>Yes</td>\n",
              "      <td>No</td>\n",
              "      <td>No</td>\n",
              "      <td>One year</td>\n",
              "      <td>No</td>\n",
              "      <td>Bank transfer (automatic)</td>\n",
              "      <td>42.30</td>\n",
              "      <td>1840.75</td>\n",
              "      <td>No</td>\n",
              "    </tr>\n",
              "    <tr>\n",
              "      <th>4</th>\n",
              "      <td>9237-HQITU</td>\n",
              "      <td>Female</td>\n",
              "      <td>0</td>\n",
              "      <td>No</td>\n",
              "      <td>No</td>\n",
              "      <td>2</td>\n",
              "      <td>Yes</td>\n",
              "      <td>No</td>\n",
              "      <td>Fiber optic</td>\n",
              "      <td>No</td>\n",
              "      <td>...</td>\n",
              "      <td>No</td>\n",
              "      <td>No</td>\n",
              "      <td>No</td>\n",
              "      <td>No</td>\n",
              "      <td>Month-to-month</td>\n",
              "      <td>Yes</td>\n",
              "      <td>Electronic check</td>\n",
              "      <td>70.70</td>\n",
              "      <td>151.65</td>\n",
              "      <td>Yes</td>\n",
              "    </tr>\n",
              "  </tbody>\n",
              "</table>\n",
              "<p>5 rows × 21 columns</p>\n",
              "</div>\n",
              "    <div class=\"colab-df-buttons\">\n",
              "\n",
              "  <div class=\"colab-df-container\">\n",
              "    <button class=\"colab-df-convert\" onclick=\"convertToInteractive('df-ecc16d5c-a0b4-426d-9a65-a8cb02a2003e')\"\n",
              "            title=\"Convert this dataframe to an interactive table.\"\n",
              "            style=\"display:none;\">\n",
              "\n",
              "  <svg xmlns=\"http://www.w3.org/2000/svg\" height=\"24px\" viewBox=\"0 -960 960 960\">\n",
              "    <path d=\"M120-120v-720h720v720H120Zm60-500h600v-160H180v160Zm220 220h160v-160H400v160Zm0 220h160v-160H400v160ZM180-400h160v-160H180v160Zm440 0h160v-160H620v160ZM180-180h160v-160H180v160Zm440 0h160v-160H620v160Z\"/>\n",
              "  </svg>\n",
              "    </button>\n",
              "\n",
              "  <style>\n",
              "    .colab-df-container {\n",
              "      display:flex;\n",
              "      gap: 12px;\n",
              "    }\n",
              "\n",
              "    .colab-df-convert {\n",
              "      background-color: #E8F0FE;\n",
              "      border: none;\n",
              "      border-radius: 50%;\n",
              "      cursor: pointer;\n",
              "      display: none;\n",
              "      fill: #1967D2;\n",
              "      height: 32px;\n",
              "      padding: 0 0 0 0;\n",
              "      width: 32px;\n",
              "    }\n",
              "\n",
              "    .colab-df-convert:hover {\n",
              "      background-color: #E2EBFA;\n",
              "      box-shadow: 0px 1px 2px rgba(60, 64, 67, 0.3), 0px 1px 3px 1px rgba(60, 64, 67, 0.15);\n",
              "      fill: #174EA6;\n",
              "    }\n",
              "\n",
              "    .colab-df-buttons div {\n",
              "      margin-bottom: 4px;\n",
              "    }\n",
              "\n",
              "    [theme=dark] .colab-df-convert {\n",
              "      background-color: #3B4455;\n",
              "      fill: #D2E3FC;\n",
              "    }\n",
              "\n",
              "    [theme=dark] .colab-df-convert:hover {\n",
              "      background-color: #434B5C;\n",
              "      box-shadow: 0px 1px 3px 1px rgba(0, 0, 0, 0.15);\n",
              "      filter: drop-shadow(0px 1px 2px rgba(0, 0, 0, 0.3));\n",
              "      fill: #FFFFFF;\n",
              "    }\n",
              "  </style>\n",
              "\n",
              "    <script>\n",
              "      const buttonEl =\n",
              "        document.querySelector('#df-ecc16d5c-a0b4-426d-9a65-a8cb02a2003e button.colab-df-convert');\n",
              "      buttonEl.style.display =\n",
              "        google.colab.kernel.accessAllowed ? 'block' : 'none';\n",
              "\n",
              "      async function convertToInteractive(key) {\n",
              "        const element = document.querySelector('#df-ecc16d5c-a0b4-426d-9a65-a8cb02a2003e');\n",
              "        const dataTable =\n",
              "          await google.colab.kernel.invokeFunction('convertToInteractive',\n",
              "                                                    [key], {});\n",
              "        if (!dataTable) return;\n",
              "\n",
              "        const docLinkHtml = 'Like what you see? Visit the ' +\n",
              "          '<a target=\"_blank\" href=https://colab.research.google.com/notebooks/data_table.ipynb>data table notebook</a>'\n",
              "          + ' to learn more about interactive tables.';\n",
              "        element.innerHTML = '';\n",
              "        dataTable['output_type'] = 'display_data';\n",
              "        await google.colab.output.renderOutput(dataTable, element);\n",
              "        const docLink = document.createElement('div');\n",
              "        docLink.innerHTML = docLinkHtml;\n",
              "        element.appendChild(docLink);\n",
              "      }\n",
              "    </script>\n",
              "  </div>\n",
              "\n",
              "\n",
              "    <div id=\"df-1fd93eb9-e4d5-4351-8200-ac8a14c0aeb0\">\n",
              "      <button class=\"colab-df-quickchart\" onclick=\"quickchart('df-1fd93eb9-e4d5-4351-8200-ac8a14c0aeb0')\"\n",
              "                title=\"Suggest charts\"\n",
              "                style=\"display:none;\">\n",
              "\n",
              "<svg xmlns=\"http://www.w3.org/2000/svg\" height=\"24px\"viewBox=\"0 0 24 24\"\n",
              "     width=\"24px\">\n",
              "    <g>\n",
              "        <path d=\"M19 3H5c-1.1 0-2 .9-2 2v14c0 1.1.9 2 2 2h14c1.1 0 2-.9 2-2V5c0-1.1-.9-2-2-2zM9 17H7v-7h2v7zm4 0h-2V7h2v10zm4 0h-2v-4h2v4z\"/>\n",
              "    </g>\n",
              "</svg>\n",
              "      </button>\n",
              "\n",
              "<style>\n",
              "  .colab-df-quickchart {\n",
              "      --bg-color: #E8F0FE;\n",
              "      --fill-color: #1967D2;\n",
              "      --hover-bg-color: #E2EBFA;\n",
              "      --hover-fill-color: #174EA6;\n",
              "      --disabled-fill-color: #AAA;\n",
              "      --disabled-bg-color: #DDD;\n",
              "  }\n",
              "\n",
              "  [theme=dark] .colab-df-quickchart {\n",
              "      --bg-color: #3B4455;\n",
              "      --fill-color: #D2E3FC;\n",
              "      --hover-bg-color: #434B5C;\n",
              "      --hover-fill-color: #FFFFFF;\n",
              "      --disabled-bg-color: #3B4455;\n",
              "      --disabled-fill-color: #666;\n",
              "  }\n",
              "\n",
              "  .colab-df-quickchart {\n",
              "    background-color: var(--bg-color);\n",
              "    border: none;\n",
              "    border-radius: 50%;\n",
              "    cursor: pointer;\n",
              "    display: none;\n",
              "    fill: var(--fill-color);\n",
              "    height: 32px;\n",
              "    padding: 0;\n",
              "    width: 32px;\n",
              "  }\n",
              "\n",
              "  .colab-df-quickchart:hover {\n",
              "    background-color: var(--hover-bg-color);\n",
              "    box-shadow: 0 1px 2px rgba(60, 64, 67, 0.3), 0 1px 3px 1px rgba(60, 64, 67, 0.15);\n",
              "    fill: var(--button-hover-fill-color);\n",
              "  }\n",
              "\n",
              "  .colab-df-quickchart-complete:disabled,\n",
              "  .colab-df-quickchart-complete:disabled:hover {\n",
              "    background-color: var(--disabled-bg-color);\n",
              "    fill: var(--disabled-fill-color);\n",
              "    box-shadow: none;\n",
              "  }\n",
              "\n",
              "  .colab-df-spinner {\n",
              "    border: 2px solid var(--fill-color);\n",
              "    border-color: transparent;\n",
              "    border-bottom-color: var(--fill-color);\n",
              "    animation:\n",
              "      spin 1s steps(1) infinite;\n",
              "  }\n",
              "\n",
              "  @keyframes spin {\n",
              "    0% {\n",
              "      border-color: transparent;\n",
              "      border-bottom-color: var(--fill-color);\n",
              "      border-left-color: var(--fill-color);\n",
              "    }\n",
              "    20% {\n",
              "      border-color: transparent;\n",
              "      border-left-color: var(--fill-color);\n",
              "      border-top-color: var(--fill-color);\n",
              "    }\n",
              "    30% {\n",
              "      border-color: transparent;\n",
              "      border-left-color: var(--fill-color);\n",
              "      border-top-color: var(--fill-color);\n",
              "      border-right-color: var(--fill-color);\n",
              "    }\n",
              "    40% {\n",
              "      border-color: transparent;\n",
              "      border-right-color: var(--fill-color);\n",
              "      border-top-color: var(--fill-color);\n",
              "    }\n",
              "    60% {\n",
              "      border-color: transparent;\n",
              "      border-right-color: var(--fill-color);\n",
              "    }\n",
              "    80% {\n",
              "      border-color: transparent;\n",
              "      border-right-color: var(--fill-color);\n",
              "      border-bottom-color: var(--fill-color);\n",
              "    }\n",
              "    90% {\n",
              "      border-color: transparent;\n",
              "      border-bottom-color: var(--fill-color);\n",
              "    }\n",
              "  }\n",
              "</style>\n",
              "\n",
              "      <script>\n",
              "        async function quickchart(key) {\n",
              "          const quickchartButtonEl =\n",
              "            document.querySelector('#' + key + ' button');\n",
              "          quickchartButtonEl.disabled = true;  // To prevent multiple clicks.\n",
              "          quickchartButtonEl.classList.add('colab-df-spinner');\n",
              "          try {\n",
              "            const charts = await google.colab.kernel.invokeFunction(\n",
              "                'suggestCharts', [key], {});\n",
              "          } catch (error) {\n",
              "            console.error('Error during call to suggestCharts:', error);\n",
              "          }\n",
              "          quickchartButtonEl.classList.remove('colab-df-spinner');\n",
              "          quickchartButtonEl.classList.add('colab-df-quickchart-complete');\n",
              "        }\n",
              "        (() => {\n",
              "          let quickchartButtonEl =\n",
              "            document.querySelector('#df-1fd93eb9-e4d5-4351-8200-ac8a14c0aeb0 button');\n",
              "          quickchartButtonEl.style.display =\n",
              "            google.colab.kernel.accessAllowed ? 'block' : 'none';\n",
              "        })();\n",
              "      </script>\n",
              "    </div>\n",
              "\n",
              "    </div>\n",
              "  </div>\n"
            ],
            "application/vnd.google.colaboratory.intrinsic+json": {
              "type": "dataframe",
              "variable_name": "df"
            }
          },
          "metadata": {},
          "execution_count": 7
        }
      ],
      "source": [
        "print(df.shape)\n",
        "df.head()\n"
      ]
    },
    {
      "cell_type": "markdown",
      "id": "0b5ffc62",
      "metadata": {
        "id": "0b5ffc62"
      },
      "source": [
        "## 3. Basic Cleaning (idempotent)"
      ]
    },
    {
      "cell_type": "code",
      "execution_count": 8,
      "id": "1bffd287",
      "metadata": {
        "colab": {
          "base_uri": "https://localhost:8080/"
        },
        "id": "1bffd287",
        "outputId": "328442dd-ca32-44e0-a226-afe7c3f25773"
      },
      "outputs": [
        {
          "output_type": "stream",
          "name": "stdout",
          "text": [
            "<class 'pandas.core.frame.DataFrame'>\n",
            "RangeIndex: 7043 entries, 0 to 7042\n",
            "Data columns (total 22 columns):\n",
            " #   Column            Non-Null Count  Dtype  \n",
            "---  ------            --------------  -----  \n",
            " 0   customerID        7043 non-null   object \n",
            " 1   gender            7043 non-null   object \n",
            " 2   SeniorCitizen     7043 non-null   int64  \n",
            " 3   Partner           7043 non-null   object \n",
            " 4   Dependents        7043 non-null   object \n",
            " 5   tenure            7043 non-null   int64  \n",
            " 6   PhoneService      7043 non-null   object \n",
            " 7   MultipleLines     7043 non-null   object \n",
            " 8   InternetService   7043 non-null   object \n",
            " 9   OnlineSecurity    7043 non-null   object \n",
            " 10  OnlineBackup      7043 non-null   object \n",
            " 11  DeviceProtection  7043 non-null   object \n",
            " 12  TechSupport       7043 non-null   object \n",
            " 13  StreamingTV       7043 non-null   object \n",
            " 14  StreamingMovies   7043 non-null   object \n",
            " 15  Contract          7043 non-null   object \n",
            " 16  PaperlessBilling  7043 non-null   object \n",
            " 17  PaymentMethod     7043 non-null   object \n",
            " 18  MonthlyCharges    7043 non-null   float64\n",
            " 19  TotalCharges      7032 non-null   float64\n",
            " 20  Churn             7043 non-null   object \n",
            " 21  IsNewCustomer     7043 non-null   int64  \n",
            "dtypes: float64(2), int64(3), object(17)\n",
            "memory usage: 1.2+ MB\n"
          ]
        }
      ],
      "source": [
        "\n",
        "# Make sure TotalCharges is numeric and handle hidden blanks (spaces)\n",
        "if df['TotalCharges'].dtype == 'O':\n",
        "    df['TotalCharges'] = pd.to_numeric(df['TotalCharges'].replace(' ', np.nan), errors='coerce')\n",
        "\n",
        "# Create IsNewCustomer if not present\n",
        "if 'IsNewCustomer' not in df.columns:\n",
        "    df['IsNewCustomer'] = (df['tenure'] == 0).astype(int)\n",
        "\n",
        "# Drop exact duplicates by customerID if any\n",
        "df = df.drop_duplicates(subset=['customerID']).reset_index(drop=True)\n",
        "\n",
        "df.info()\n"
      ]
    },
    {
      "cell_type": "markdown",
      "id": "1a7f0b63",
      "metadata": {
        "id": "1a7f0b63"
      },
      "source": [
        "## 4. Feature Engineering"
      ]
    },
    {
      "cell_type": "code",
      "execution_count": 9,
      "id": "8e4d0e74",
      "metadata": {
        "id": "8e4d0e74"
      },
      "outputs": [],
      "source": [
        "\n",
        "# Robust helpers\n",
        "def yn_to_bin(s):\n",
        "    s = str(s).strip().lower()\n",
        "    return 1 if s == 'yes' else 0\n",
        "\n",
        "# 4.1 Tenure group\n",
        "if 'tenure_group' not in df.columns:\n",
        "    df['tenure_group'] = pd.cut(\n",
        "        df['tenure'],\n",
        "        bins=[-1, 0, 6, 12, 24, 48, 72],\n",
        "        labels=['new','0-6m','6-12m','1-2y','2-4y','4y+']\n",
        "    )\n",
        "\n",
        "# 4.2 Average monthly charge (safe when tenure=0)\n",
        "df['avg_monthly_charge'] = np.where(\n",
        "    df['tenure'] > 0,\n",
        "    df['TotalCharges'] / df['tenure'].replace(0, np.nan),\n",
        "    df['MonthlyCharges']\n",
        ")\n",
        "\n",
        "# 4.3 Internet flags\n",
        "df['has_internet'] = (~df['InternetService'].str.lower().str.contains('no')).astype(int)\n",
        "df['is_fiber'] = (df['InternetService'].str.lower() == 'fiber optic').astype(int)\n",
        "\n",
        "# 4.4 Online & streaming counts\n",
        "online_cols = ['OnlineSecurity', 'OnlineBackup', 'DeviceProtection', 'TechSupport']\n",
        "for c in online_cols:\n",
        "    df[c + '_bin'] = df[c].map(yn_to_bin)\n",
        "\n",
        "stream_cols = ['StreamingTV', 'StreamingMovies']\n",
        "for c in stream_cols:\n",
        "    df[c + '_bin'] = df[c].map(yn_to_bin)\n",
        "\n",
        "df['num_online_services']    = df[[c + '_bin' for c in online_cols]].sum(axis=1)\n",
        "df['num_streaming_services'] = df[[c + '_bin' for c in stream_cols]].sum(axis=1)\n",
        "\n",
        "# 4.5 Phone + total services\n",
        "df['PhoneService_bin'] = df['PhoneService'].map(yn_to_bin)\n",
        "df['service_count'] = df['PhoneService_bin'] + df['has_internet'] + df['num_online_services'] + df['num_streaming_services']\n",
        "\n",
        "# 4.6 Payment flags\n",
        "df['autopay_flag'] = df['PaymentMethod'].str.lower().str.contains('automatic').astype(int)\n",
        "df['electronic_check_flag'] = (df['PaymentMethod'].str.lower().str.strip() == 'electronic check').astype(int)\n",
        "\n",
        "# 4.7 Contract features\n",
        "contract_map = {'month-to-month': 1, 'one year': 12, 'two year': 24}\n",
        "df['contract_length_months'] = df['Contract'].str.lower().map(contract_map).fillna(1).astype(int)\n",
        "df['month_to_month_paperless'] = ((df['Contract'].str.lower() == 'month-to-month') & (df['PaperlessBilling'].str.lower() == 'yes')).astype(int)\n",
        "\n",
        "# 4.8 Spend normalization\n",
        "df['charge_per_service'] = df['MonthlyCharges'] / df['service_count'].replace(0, np.nan)\n",
        "df['charge_per_service'] = df['charge_per_service'].fillna(df['MonthlyCharges'])\n",
        "\n",
        "# 4.9 Billing anomaly\n",
        "avg_charge_calc = np.where(df['tenure']>0, df['TotalCharges'] / df['tenure'].replace(0, np.nan), df['MonthlyCharges'])\n",
        "df['avg_charge_dev'] = df['MonthlyCharges'] - avg_charge_calc\n",
        "\n",
        "# Clean up: cast tenure_group to str for encoding\n",
        "df['tenure_group'] = df['tenure_group'].astype(str)\n"
      ]
    },
    {
      "cell_type": "markdown",
      "id": "d7530a06",
      "metadata": {
        "id": "d7530a06"
      },
      "source": [
        "## 5. Train/Test Split & Pipelines"
      ]
    },
    {
      "cell_type": "code",
      "execution_count": 10,
      "id": "97536903",
      "metadata": {
        "colab": {
          "base_uri": "https://localhost:8080/"
        },
        "id": "97536903",
        "outputId": "eed3ed33-bff7-4a4e-afd4-1d8a789a83f0"
      },
      "outputs": [
        {
          "output_type": "stream",
          "name": "stdout",
          "text": [
            "[LightGBM] [Info] Number of positive: 1495, number of negative: 4139\n",
            "[LightGBM] [Info] Auto-choosing row-wise multi-threading, the overhead of testing was 0.001668 seconds.\n",
            "You can set `force_row_wise=true` to remove the overhead.\n",
            "And if memory is not enough, you can set `force_col_wise=true`.\n",
            "[LightGBM] [Info] Total Bins 1487\n",
            "[LightGBM] [Info] Number of data points in the train set: 5634, number of used features: 69\n",
            "[LightGBM] [Info] [binary:BoostFromScore]: pavg=0.265353 -> initscore=-1.018328\n",
            "[LightGBM] [Info] Start training from score -1.018328\n",
            "Confusion Matrix:\n",
            " [[923 112]\n",
            " [175 199]]\n",
            "\n",
            "Classification Report:\n",
            "               precision    recall  f1-score   support\n",
            "\n",
            "           0       0.84      0.89      0.87      1035\n",
            "           1       0.64      0.53      0.58       374\n",
            "\n",
            "    accuracy                           0.80      1409\n",
            "   macro avg       0.74      0.71      0.72      1409\n",
            "weighted avg       0.79      0.80      0.79      1409\n",
            "\n",
            "\n",
            "ROC-AUC Score: 0.8368673951794157\n"
          ]
        }
      ],
      "source": [
        "\n",
        "# Target\n",
        "df['Churn'] = df['Churn'].map({'Yes': 1, 'No': 0}).astype(int)\n",
        "\n",
        "# Features (drop ID and target)\n",
        "X = df.drop(columns=['customerID', 'Churn'])\n",
        "y = df['Churn']\n",
        "\n",
        "\n",
        "# Features/target\n",
        "X = df.drop(columns=['customerID', 'Churn'])\n",
        "y = df['Churn']\n",
        "\n",
        "# Split the data (stratify to preserve churn ratio in train/test)\n",
        "X_train, X_test, y_train, y_test = train_test_split(\n",
        "    X, y, test_size=0.2, random_state=42, stratify=y\n",
        ")\n",
        "\n",
        "# Categorical & numeric columns\n",
        "cat_cols = X.select_dtypes(include='object').columns.tolist()\n",
        "num_cols = X.select_dtypes(exclude='object').columns.tolist()\n",
        "\n",
        "\n",
        "preprocessor = ColumnTransformer(\n",
        "    transformers=[\n",
        "        ('cat', OneHotEncoder(handle_unknown='ignore', sparse_output=False), cat_cols),\n",
        "        ('num', 'passthrough', num_cols) # Add imputer for numeric columns\n",
        "    ]\n",
        ")\n",
        "\n",
        "\n",
        "# 6. LightGBM classifier\n",
        "lgb_clf = lgb.LGBMClassifier(\n",
        "    objective=\"binary\",\n",
        "    boosting_type=\"gbdt\",\n",
        "    random_state=42,\n",
        "    n_jobs=-1\n",
        ")\n",
        "\n",
        "# 7. Build pipeline\n",
        "pipeline = Pipeline(steps=[\n",
        "    (\"preprocessor\", preprocessor),\n",
        "    (\"model\", lgb_clf)\n",
        "])\n",
        "\n",
        "# 8. Train\n",
        "pipeline.fit(X_train, y_train)\n",
        "\n",
        "# 9. Evaluate\n",
        "y_pred = pipeline.predict(X_test)\n",
        "y_proba = pipeline.predict_proba(X_test)[:, 1]\n",
        "\n",
        "print(\"Confusion Matrix:\\n\", confusion_matrix(y_test, y_pred))\n",
        "print(\"\\nClassification Report:\\n\", classification_report(y_test, y_pred))\n",
        "print(\"\\nROC-AUC Score:\", roc_auc_score(y_test, y_proba))"
      ]
    },
    {
      "cell_type": "code",
      "execution_count": 11,
      "id": "tUu41GyER-vj",
      "metadata": {
        "colab": {
          "base_uri": "https://localhost:8080/",
          "height": 747
        },
        "id": "tUu41GyER-vj",
        "outputId": "69ac5730-d67b-4fed-c4aa-734e56af0a09"
      },
      "outputs": [
        {
          "output_type": "display_data",
          "data": {
            "text/plain": [
              "<Figure size 800x500 with 1 Axes>"
            ],
            "image/png": "[encoded data removed]"
          },
          "metadata": {}
        },
        {
          "output_type": "stream",
          "name": "stdout",
          "text": [
            "Confusion Matrix:\n",
            "[[794 241]\n",
            " [ 96 278]]\n",
            "\n",
            "Classification Report:\n",
            "              precision    recall  f1-score   support\n",
            "\n",
            "           0       0.89      0.77      0.82      1035\n",
            "           1       0.54      0.74      0.62       374\n",
            "\n",
            "    accuracy                           0.76      1409\n",
            "   macro avg       0.71      0.76      0.72      1409\n",
            "weighted avg       0.80      0.76      0.77      1409\n",
            "\n",
            "ROC-AUC Score: 0.8368673951794157\n"
          ]
        }
      ],
      "source": [
        "# Get predicted probabilities for the positive class\n",
        "y_proba = pipeline.predict_proba(X_test)[:, 1]\n",
        "\n",
        "# Precision-recall curve\n",
        "precisions, recalls, thresholds = precision_recall_curve(y_test, y_proba)\n",
        "\n",
        "# Plot precision vs recall\n",
        "plt.figure(figsize=(8,5))\n",
        "plt.plot(thresholds, precisions[:-1], label=\"Precision\")\n",
        "plt.plot(thresholds, recalls[:-1], label=\"Recall\")\n",
        "plt.xlabel(\"Threshold\")\n",
        "plt.ylabel(\"Score\")\n",
        "plt.title(\"Precision-Recall vs Threshold\")\n",
        "plt.legend()\n",
        "plt.show()\n",
        "\n",
        "# Pick a threshold (example: 0.3)\n",
        "optimal_threshold = 0.3\n",
        "y_pred_opt = (y_proba >= optimal_threshold).astype(int)\n",
        "\n",
        "# Evaluate\n",
        "print(\"Confusion Matrix:\")\n",
        "print(confusion_matrix(y_test, y_pred_opt))\n",
        "print(\"\\nClassification Report:\")\n",
        "print(classification_report(y_test, y_pred_opt))\n",
        "print(\"ROC-AUC Score:\", roc_auc_score(y_test, y_proba))"
      ]
    },
    {
      "cell_type": "code",
      "execution_count": 12,
      "id": "CN7HGfgNUmHX",
      "metadata": {
        "colab": {
          "base_uri": "https://localhost:8080/"
        },
        "id": "CN7HGfgNUmHX",
        "outputId": "f245dad8-2728-442a-d4f8-a196b0b5ab17"
      },
      "outputs": [
        {
          "output_type": "stream",
          "name": "stdout",
          "text": [
            "Best Threshold: 0.28901787033241033\n",
            "Best F1-Score: 0.6300763546461755\n"
          ]
        }
      ],
      "source": [
        "# True labels (from your test set)\n",
        "y_true = y_test\n",
        "# Use precision_recall_curve to get thresholds\n",
        "precisions, recalls, thresholds = precision_recall_curve(y_true, y_proba)\n",
        "\n",
        "# Compute F1 for each threshold\n",
        "f1_scores = 2 * (precisions * recalls) / (precisions + recalls + 1e-6)\n",
        "\n",
        "# Find index of best threshold\n",
        "best_index = np.argmax(f1_scores)\n",
        "best_threshold = thresholds[best_index]\n",
        "best_f1 = f1_scores[best_index]\n",
        "\n",
        "print(\"Best Threshold:\", best_threshold)\n",
        "print(\"Best F1-Score:\", best_f1)\n",
        "\n",
        "# Apply threshold to get new predictions\n",
        "y_pred_optimal = (y_proba >= best_threshold).astype(int)"
      ]
    },
    {
      "cell_type": "code",
      "execution_count": 13,
      "id": "OQk6M0x1VK0m",
      "metadata": {
        "colab": {
          "base_uri": "https://localhost:8080/"
        },
        "id": "OQk6M0x1VK0m",
        "outputId": "a9d00540-dfe0-4d5c-f1b7-4b62d7f10550"
      },
      "outputs": [
        {
          "output_type": "stream",
          "name": "stdout",
          "text": [
            "Confusion Matrix:\n",
            "[[785 250]\n",
            " [ 87 287]]\n",
            "\n",
            "Classification Report:\n",
            "              precision    recall  f1-score   support\n",
            "\n",
            "           0       0.90      0.76      0.82      1035\n",
            "           1       0.53      0.77      0.63       374\n",
            "\n",
            "    accuracy                           0.76      1409\n",
            "   macro avg       0.72      0.76      0.73      1409\n",
            "weighted avg       0.80      0.76      0.77      1409\n",
            "\n"
          ]
        }
      ],
      "source": [
        "#Re-evaluate metrics (confusion matrix, precision, recall, F1, accuracy, ROC-AUC).\n",
        "print(\"Confusion Matrix:\")\n",
        "print(confusion_matrix(y_test, y_pred_optimal))\n",
        "print(\"\\nClassification Report:\")\n",
        "print(classification_report(y_test, y_pred_optimal))\n"
      ]
    },
    {
      "cell_type": "markdown",
      "id": "WPp5Y131VpiV",
      "metadata": {
        "id": "WPp5Y131VpiV"
      },
      "source": [
        "Confusion matrix new results\n",
        "\n",
        "Class 0 (No Churn / Non-Event):\n",
        "785 correctly predicted, 250 wrongly predicted as churn.\n",
        "\n",
        "Class 1 (Churn / Event):\n",
        "287 correctly predicted, 87 missed."
      ]
    },
    {
      "cell_type": "markdown",
      "id": "dUq7_xLbVyyW",
      "metadata": {
        "id": "dUq7_xLbVyyW"
      },
      "source": [
        "Classification Report\n",
        "\n",
        "Precision (Class 1 = 0.53): When the model predicts churn, it’s correct 53% of the time.\n",
        "\n",
        "Recall (Class 1 = 0.77): It catches 77% of actual churners — very strong!\n",
        "\n",
        "F1-score (Class 1 = 0.63): Balanced trade-off between precision and recall.\n",
        "\n",
        "Accuracy = 76%: Solid, but more importantly, recall on churn is good."
      ]
    },
    {
      "cell_type": "markdown",
      "id": "d381cafa",
      "metadata": {
        "id": "d381cafa"
      },
      "source": [
        "## 6. Business Output: Top-Risk Customers & Save Model"
      ]
    },
    {
      "cell_type": "code",
      "execution_count": 14,
      "id": "44a77f1d",
      "metadata": {
        "colab": {
          "base_uri": "https://localhost:8080/"
        },
        "id": "44a77f1d",
        "outputId": "efbd71de-aee5-4cc8-86e8-888ec3081e77"
      },
      "outputs": [
        {
          "output_type": "stream",
          "name": "stdout",
          "text": [
            "    customerID  churn_probability  churn_prediction        Contract  \\\n",
            "0   8168-UQWWF           0.971038                 1  Month-to-month   \n",
            "1   2012-NWRPA           0.970813                 1  Month-to-month   \n",
            "2   1455-UGQVH           0.964292                 1  Month-to-month   \n",
            "3   7526-BEZQB           0.962530                 1  Month-to-month   \n",
            "4   2968-SSGAA           0.960620                 1  Month-to-month   \n",
            "5   2454-RPBRZ           0.956296                 1  Month-to-month   \n",
            "6   4445-ZJNMU           0.956271                 1  Month-to-month   \n",
            "7   7450-NWRTR           0.956132                 1  Month-to-month   \n",
            "8   0679-IDSTG           0.955580                 1  Month-to-month   \n",
            "9   6210-KBBPI           0.954248                 1  Month-to-month   \n",
            "10  1086-LXKFY           0.954093                 1  Month-to-month   \n",
            "11  6416-TVAIH           0.952738                 1  Month-to-month   \n",
            "12  5380-AFSSK           0.951071                 1  Month-to-month   \n",
            "13  1450-GALXR           0.950898                 1  Month-to-month   \n",
            "14  9497-QCMMS           0.950068                 1  Month-to-month   \n",
            "15  9300-AGZNL           0.950068                 1  Month-to-month   \n",
            "16  9305-CDSKC           0.948551                 1  Month-to-month   \n",
            "17  0107-YHINA           0.948537                 1  Month-to-month   \n",
            "18  2982-VPSGI           0.948009                 1  Month-to-month   \n",
            "19  0295-PPHDO           0.944497                 1  Month-to-month   \n",
            "\n",
            "                PaymentMethod  MonthlyCharges  tenure  \n",
            "0   Bank transfer (automatic)           97.85      11  \n",
            "1            Electronic check           99.55      11  \n",
            "2            Electronic check           98.50      10  \n",
            "3            Electronic check           96.05      12  \n",
            "4            Electronic check          100.60      10  \n",
            "5            Electronic check           98.10      12  \n",
            "6     Credit card (automatic)           99.30       9  \n",
            "7            Electronic check           99.45      12  \n",
            "8            Electronic check           69.25       1  \n",
            "9     Credit card (automatic)           99.45       9  \n",
            "10               Mailed check           69.10       1  \n",
            "11           Electronic check           68.50       1  \n",
            "12               Mailed check           93.90       5  \n",
            "13           Electronic check           98.50      10  \n",
            "14           Electronic check           93.55       1  \n",
            "15           Electronic check           94.00       1  \n",
            "16           Electronic check           99.65       8  \n",
            "17           Electronic check           99.75       1  \n",
            "18           Electronic check           94.00      11  \n",
            "19           Electronic check           95.45       1  \n"
          ]
        },
        {
          "output_type": "execute_result",
          "data": {
            "text/plain": [
              "['churn_threshold.pkl']"
            ]
          },
          "metadata": {},
          "execution_count": 14
        }
      ],
      "source": [
        "import joblib # Import joblib\n",
        "\n",
        "# --- Business Output: Top-Risk Customers & Save Model ---\n",
        "\n",
        "# ✅ Generate churn probabilities\n",
        "# Use pipeline instead of lgbm_pipe or lgbm\n",
        "df_probs = df.copy()\n",
        "df_probs['churn_probability'] = pipeline.predict_proba(X)[:, 1]\n",
        "\n",
        "# ✅ Apply your custom threshold to classify churn\n",
        "# Ensure best_threshold is defined by running previous cells\n",
        "threshold = best_threshold\n",
        "df_probs['churn_prediction'] = (df_probs['churn_probability'] >= threshold).astype(int)\n",
        "\n",
        "# ✅ Get Top 20 highest-risk customers\n",
        "top20 = (\n",
        "    df_probs[['customerID', 'churn_probability', 'churn_prediction',\n",
        "              'Contract', 'PaymentMethod', 'MonthlyCharges', 'tenure']]\n",
        "    .sort_values('churn_probability', ascending=False)\n",
        "    .head(20)\n",
        "    .reset_index(drop=True)\n",
        ")\n",
        "\n",
        "print(top20)\n",
        "\n",
        "# ✅ Save the final LightGBM model\n",
        "joblib.dump(pipeline, \"lgbm_churn_model.pkl\")\n",
        "\n",
        "# ✅ Also save the threshold for reuse in production\n",
        "joblib.dump(best_threshold, \"churn_threshold.pkl\")"
      ]
    },
    {
      "cell_type": "code",
      "execution_count": 15,
      "id": "d8qFk53sYq5N",
      "metadata": {
        "colab": {
          "base_uri": "https://localhost:8080/",
          "height": 241
        },
        "id": "d8qFk53sYq5N",
        "outputId": "0f592cce-f45f-484f-f285-21f29edbe724"
      },
      "outputs": [
        {
          "output_type": "execute_result",
          "data": {
            "text/plain": [
              "0    0.655655\n",
              "1    0.018167\n",
              "2    0.434387\n",
              "3    0.026124\n",
              "4    0.520501\n",
              "Name: churn_probability, dtype: float64"
            ],
            "text/html": [
              "<div>\n",
              "<style scoped>\n",
              "    .dataframe tbody tr th:only-of-type {\n",
              "        vertical-align: middle;\n",
              "    }\n",
              "\n",
              "    .dataframe tbody tr th {\n",
              "        vertical-align: top;\n",
              "    }\n",
              "\n",
              "    .dataframe thead th {\n",
              "        text-align: right;\n",
              "    }\n",
              "</style>\n",
              "<table border=\"1\" class=\"dataframe\">\n",
              "  <thead>\n",
              "    <tr style=\"text-align: right;\">\n",
              "      <th></th>\n",
              "      <th>churn_probability</th>\n",
              "    </tr>\n",
              "  </thead>\n",
              "  <tbody>\n",
              "    <tr>\n",
              "      <th>0</th>\n",
              "      <td>0.655655</td>\n",
              "    </tr>\n",
              "    <tr>\n",
              "      <th>1</th>\n",
              "      <td>0.018167</td>\n",
              "    </tr>\n",
              "    <tr>\n",
              "      <th>2</th>\n",
              "      <td>0.434387</td>\n",
              "    </tr>\n",
              "    <tr>\n",
              "      <th>3</th>\n",
              "      <td>0.026124</td>\n",
              "    </tr>\n",
              "    <tr>\n",
              "      <th>4</th>\n",
              "      <td>0.520501</td>\n",
              "    </tr>\n",
              "  </tbody>\n",
              "</table>\n",
              "</div><br><label><b>dtype:</b> float64</label>"
            ]
          },
          "metadata": {},
          "execution_count": 15
        }
      ],
      "source": [
        "df_probs['churn_probability'].head()"
      ]
    },
    {
      "cell_type": "code",
      "execution_count": 16,
      "id": "28e31e98",
      "metadata": {
        "colab": {
          "base_uri": "https://localhost:8080/"
        },
        "id": "28e31e98",
        "outputId": "5e2ce729-95a5-4f3d-9580-8430dc89311a"
      },
      "outputs": [
        {
          "output_type": "stream",
          "name": "stdout",
          "text": [
            "Saved: ./lgbm_churn_pipeline.pkl, ./churn_threshold.pkl, and ./telco_churn_with_probs.csv\n"
          ]
        }
      ],
      "source": [
        "# Save artifacts for a Streamlit app\n",
        "import joblib\n",
        "\n",
        "# ✅ Save the trained pipeline\n",
        "joblib.dump(pipeline, './lgbm_churn_pipeline.pkl')\n",
        "\n",
        "# ✅ Save the best threshold separately\n",
        "joblib.dump(best_threshold, './churn_threshold.pkl')\n",
        "\n",
        "# ✅ Save the probabilities dataframe\n",
        "df_probs.to_csv('./telco_churn_with_probs.csv', index=False)\n",
        "\n",
        "print(\"Saved: ./lgbm_churn_pipeline.pkl, ./churn_threshold.pkl, and ./telco_churn_with_probs.csv\")"
      ]
    },
    {
      "cell_type": "markdown",
      "id": "d2db47eb",
      "metadata": {
        "id": "d2db47eb"
      },
      "source": [
        "## 7. (Optional) Feature Importances"
      ]
    },
    {
      "cell_type": "code",
      "execution_count": 17,
      "id": "e0df7ac0",
      "metadata": {
        "colab": {
          "base_uri": "https://localhost:8080/",
          "height": 607
        },
        "id": "e0df7ac0",
        "outputId": "932e93ff-438c-48d5-d73d-fcc8c472bab8"
      },
      "outputs": [
        {
          "output_type": "display_data",
          "data": {
            "text/plain": [
              "<Figure size 800x600 with 1 Axes>"
            ],
            "image/png": "[encoded data removed]"
          },
          "metadata": {}
        }
      ],
      "source": [
        "# Extract feature names after preprocessing\n",
        "feature_names = pipeline.named_steps['preprocessor'].get_feature_names_out()\n",
        "importances = pipeline.named_steps['model'].feature_importances_\n",
        "\n",
        "# Plot top 20\n",
        "idx = np.argsort(importances)[::-1][:20]\n",
        "plt.figure(figsize=(8,6))\n",
        "plt.barh(range(len(idx)), importances[idx])\n",
        "plt.yticks(range(len(idx)), [feature_names[i] for i in idx])\n",
        "plt.gca().invert_yaxis()\n",
        "plt.title('LightGBM — Top 20 Feature Importances')\n",
        "plt.tight_layout()\n",
        "plt.show()"
      ]
    },
    {
      "cell_type": "markdown",
      "id": "fuJBbFESbt7D",
      "metadata": {
        "id": "fuJBbFESbt7D"
      },
      "source": [
        "Top 5 Churn Drivers (Executive Summary)\n",
        "\n",
        "Contract Type – Customers on month-to-month contracts are much more likely to churn compared to those on longer-term contracts.\n",
        "\n",
        "Tenure – Newer customers (short tenure) are at highest risk; loyalty grows with time.\n",
        "\n",
        "Monthly Charges – High monthly bills, especially when inconsistent, drive dissatisfaction and churn.\n",
        "\n",
        "Online Security & Tech Support – Customers without add-ons like online security or tech support are more likely to leave.\n",
        "\n",
        "Payment Method – Electronic check users show higher churn compared to other payment options."
      ]
    },
    {
      "cell_type": "markdown",
      "id": "clBHfjIOcBaF",
      "metadata": {
        "id": "clBHfjIOcBaF"
      },
      "source": [
        "👉 Actionable takeaway: Incentivize long-term contracts, support new customers, review billing fairness, bundle value-added services, and encourage lower-churn payment methods"
      ]
    },
    {
      "cell_type": "markdown",
      "id": "rjbzXsoFfY_-",
      "metadata": {
        "id": "rjbzXsoFfY_-"
      },
      "source": [
        "### Actionable Insights from Churn Prediction\n",
        "\n",
        "1. **Contract type is critical** – Month-to-month customers are much more likely to churn.  \n",
        "   👉 Retention offers (discounts, loyalty rewards) should target this group.  \n",
        "\n",
        "2. **Billing matters** – Customers with electronic billing and high charge fluctuations show higher churn.  \n",
        "   👉 Simplify bills and introduce usage-based transparency.  \n",
        "\n",
        "3. **Tenure is a loyalty indicator** – New customers are at the highest risk.  \n",
        "   👉 Early engagement programs in the first 3–6 months are essential.  \n",
        "\n",
        "4. **Service bundles reduce churn** – Customers with multiple services (internet + phone) stay longer.  \n",
        "   👉 Cross-sell opportunities can lock in customers.  \n",
        "\n",
        "5. **Support experience influences loyalty** – Dissatisfied or inactive support users churn more.  \n",
        "   👉 Improving customer support responsiveness will directly reduce churn.  \n"
      ]
    }
  ],
  "metadata": {
    "colab": {
      "provenance": []
    },
    "kernelspec": {
      "display_name": "Python 3",
      "name": "python3"
    },
    "language_info": {
      "name": "python"
    }
  },
  "nbformat": 4,
  "nbformat_minor": 5
}